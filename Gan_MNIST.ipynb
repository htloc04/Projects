{
  "nbformat": 4,
  "nbformat_minor": 0,
  "metadata": {
    "colab": {
      "name": "Gan_MNIST.ipynb",
      "provenance": []
    },
    "kernelspec": {
      "name": "python3",
      "display_name": "Python 3"
    },
    "language_info": {
      "name": "python"
    },
    "accelerator": "GPU",
    "widgets": {
      "application/vnd.jupyter.widget-state+json": {
        "010ef991916b48d39c609098038772e8": {
          "model_module": "@jupyter-widgets/controls",
          "model_name": "HBoxModel",
          "model_module_version": "1.5.0",
          "state": {
            "_view_name": "HBoxView",
            "_dom_classes": [],
            "_model_name": "HBoxModel",
            "_view_module": "@jupyter-widgets/controls",
            "_model_module_version": "1.5.0",
            "_view_count": null,
            "_view_module_version": "1.5.0",
            "box_style": "",
            "layout": "IPY_MODEL_39940858e2f44669abeba9fc0160ab19",
            "_model_module": "@jupyter-widgets/controls",
            "children": [
              "IPY_MODEL_c5aa8a92277d4699bc814f4b9c6f2a3b",
              "IPY_MODEL_548aa27ac33e4bfab0670934c0afe8c0",
              "IPY_MODEL_9d6d59ba175546878eef6199968ee1d7"
            ]
          }
        },
        "39940858e2f44669abeba9fc0160ab19": {
          "model_module": "@jupyter-widgets/base",
          "model_name": "LayoutModel",
          "model_module_version": "1.2.0",
          "state": {
            "_view_name": "LayoutView",
            "grid_template_rows": null,
            "right": null,
            "justify_content": null,
            "_view_module": "@jupyter-widgets/base",
            "overflow": null,
            "_model_module_version": "1.2.0",
            "_view_count": null,
            "flex_flow": null,
            "width": null,
            "min_width": null,
            "border": null,
            "align_items": null,
            "bottom": null,
            "_model_module": "@jupyter-widgets/base",
            "top": null,
            "grid_column": null,
            "overflow_y": null,
            "overflow_x": null,
            "grid_auto_flow": null,
            "grid_area": null,
            "grid_template_columns": null,
            "flex": null,
            "_model_name": "LayoutModel",
            "justify_items": null,
            "grid_row": null,
            "max_height": null,
            "align_content": null,
            "visibility": null,
            "align_self": null,
            "height": null,
            "min_height": null,
            "padding": null,
            "grid_auto_rows": null,
            "grid_gap": null,
            "max_width": null,
            "order": null,
            "_view_module_version": "1.2.0",
            "grid_template_areas": null,
            "object_position": null,
            "object_fit": null,
            "grid_auto_columns": null,
            "margin": null,
            "display": null,
            "left": null
          }
        },
        "c5aa8a92277d4699bc814f4b9c6f2a3b": {
          "model_module": "@jupyter-widgets/controls",
          "model_name": "HTMLModel",
          "model_module_version": "1.5.0",
          "state": {
            "_view_name": "HTMLView",
            "style": "IPY_MODEL_264226519b7e42a0ab7e32cb6a3c3ab9",
            "_dom_classes": [],
            "description": "",
            "_model_name": "HTMLModel",
            "placeholder": "​",
            "_view_module": "@jupyter-widgets/controls",
            "_model_module_version": "1.5.0",
            "value": "  1%",
            "_view_count": null,
            "_view_module_version": "1.5.0",
            "description_tooltip": null,
            "_model_module": "@jupyter-widgets/controls",
            "layout": "IPY_MODEL_41f9ab4e596e44ac8aa1db658dfb25a1"
          }
        },
        "548aa27ac33e4bfab0670934c0afe8c0": {
          "model_module": "@jupyter-widgets/controls",
          "model_name": "FloatProgressModel",
          "model_module_version": "1.5.0",
          "state": {
            "_view_name": "ProgressView",
            "style": "IPY_MODEL_802ece27b0e54888a89254ac314111d4",
            "_dom_classes": [],
            "description": "",
            "_model_name": "FloatProgressModel",
            "bar_style": "",
            "max": 200,
            "_view_module": "@jupyter-widgets/controls",
            "_model_module_version": "1.5.0",
            "value": 2,
            "_view_count": null,
            "_view_module_version": "1.5.0",
            "orientation": "horizontal",
            "min": 0,
            "description_tooltip": null,
            "_model_module": "@jupyter-widgets/controls",
            "layout": "IPY_MODEL_7f116986a255452686e580755c52ed3b"
          }
        },
        "9d6d59ba175546878eef6199968ee1d7": {
          "model_module": "@jupyter-widgets/controls",
          "model_name": "HTMLModel",
          "model_module_version": "1.5.0",
          "state": {
            "_view_name": "HTMLView",
            "style": "IPY_MODEL_02bca21f7df847bca877ce6fda22ef70",
            "_dom_classes": [],
            "description": "",
            "_model_name": "HTMLModel",
            "placeholder": "​",
            "_view_module": "@jupyter-widgets/controls",
            "_model_module_version": "1.5.0",
            "value": " 2/200 [02:34&lt;4:14:46, 77.21s/it]",
            "_view_count": null,
            "_view_module_version": "1.5.0",
            "description_tooltip": null,
            "_model_module": "@jupyter-widgets/controls",
            "layout": "IPY_MODEL_7698f1872c1c46b3a3a6c627a360a127"
          }
        },
        "264226519b7e42a0ab7e32cb6a3c3ab9": {
          "model_module": "@jupyter-widgets/controls",
          "model_name": "DescriptionStyleModel",
          "model_module_version": "1.5.0",
          "state": {
            "_view_name": "StyleView",
            "_model_name": "DescriptionStyleModel",
            "description_width": "",
            "_view_module": "@jupyter-widgets/base",
            "_model_module_version": "1.5.0",
            "_view_count": null,
            "_view_module_version": "1.2.0",
            "_model_module": "@jupyter-widgets/controls"
          }
        },
        "41f9ab4e596e44ac8aa1db658dfb25a1": {
          "model_module": "@jupyter-widgets/base",
          "model_name": "LayoutModel",
          "model_module_version": "1.2.0",
          "state": {
            "_view_name": "LayoutView",
            "grid_template_rows": null,
            "right": null,
            "justify_content": null,
            "_view_module": "@jupyter-widgets/base",
            "overflow": null,
            "_model_module_version": "1.2.0",
            "_view_count": null,
            "flex_flow": null,
            "width": null,
            "min_width": null,
            "border": null,
            "align_items": null,
            "bottom": null,
            "_model_module": "@jupyter-widgets/base",
            "top": null,
            "grid_column": null,
            "overflow_y": null,
            "overflow_x": null,
            "grid_auto_flow": null,
            "grid_area": null,
            "grid_template_columns": null,
            "flex": null,
            "_model_name": "LayoutModel",
            "justify_items": null,
            "grid_row": null,
            "max_height": null,
            "align_content": null,
            "visibility": null,
            "align_self": null,
            "height": null,
            "min_height": null,
            "padding": null,
            "grid_auto_rows": null,
            "grid_gap": null,
            "max_width": null,
            "order": null,
            "_view_module_version": "1.2.0",
            "grid_template_areas": null,
            "object_position": null,
            "object_fit": null,
            "grid_auto_columns": null,
            "margin": null,
            "display": null,
            "left": null
          }
        },
        "802ece27b0e54888a89254ac314111d4": {
          "model_module": "@jupyter-widgets/controls",
          "model_name": "ProgressStyleModel",
          "model_module_version": "1.5.0",
          "state": {
            "_view_name": "StyleView",
            "_model_name": "ProgressStyleModel",
            "description_width": "",
            "_view_module": "@jupyter-widgets/base",
            "_model_module_version": "1.5.0",
            "_view_count": null,
            "_view_module_version": "1.2.0",
            "bar_color": null,
            "_model_module": "@jupyter-widgets/controls"
          }
        },
        "7f116986a255452686e580755c52ed3b": {
          "model_module": "@jupyter-widgets/base",
          "model_name": "LayoutModel",
          "model_module_version": "1.2.0",
          "state": {
            "_view_name": "LayoutView",
            "grid_template_rows": null,
            "right": null,
            "justify_content": null,
            "_view_module": "@jupyter-widgets/base",
            "overflow": null,
            "_model_module_version": "1.2.0",
            "_view_count": null,
            "flex_flow": null,
            "width": null,
            "min_width": null,
            "border": null,
            "align_items": null,
            "bottom": null,
            "_model_module": "@jupyter-widgets/base",
            "top": null,
            "grid_column": null,
            "overflow_y": null,
            "overflow_x": null,
            "grid_auto_flow": null,
            "grid_area": null,
            "grid_template_columns": null,
            "flex": null,
            "_model_name": "LayoutModel",
            "justify_items": null,
            "grid_row": null,
            "max_height": null,
            "align_content": null,
            "visibility": null,
            "align_self": null,
            "height": null,
            "min_height": null,
            "padding": null,
            "grid_auto_rows": null,
            "grid_gap": null,
            "max_width": null,
            "order": null,
            "_view_module_version": "1.2.0",
            "grid_template_areas": null,
            "object_position": null,
            "object_fit": null,
            "grid_auto_columns": null,
            "margin": null,
            "display": null,
            "left": null
          }
        },
        "02bca21f7df847bca877ce6fda22ef70": {
          "model_module": "@jupyter-widgets/controls",
          "model_name": "DescriptionStyleModel",
          "model_module_version": "1.5.0",
          "state": {
            "_view_name": "StyleView",
            "_model_name": "DescriptionStyleModel",
            "description_width": "",
            "_view_module": "@jupyter-widgets/base",
            "_model_module_version": "1.5.0",
            "_view_count": null,
            "_view_module_version": "1.2.0",
            "_model_module": "@jupyter-widgets/controls"
          }
        },
        "7698f1872c1c46b3a3a6c627a360a127": {
          "model_module": "@jupyter-widgets/base",
          "model_name": "LayoutModel",
          "model_module_version": "1.2.0",
          "state": {
            "_view_name": "LayoutView",
            "grid_template_rows": null,
            "right": null,
            "justify_content": null,
            "_view_module": "@jupyter-widgets/base",
            "overflow": null,
            "_model_module_version": "1.2.0",
            "_view_count": null,
            "flex_flow": null,
            "width": null,
            "min_width": null,
            "border": null,
            "align_items": null,
            "bottom": null,
            "_model_module": "@jupyter-widgets/base",
            "top": null,
            "grid_column": null,
            "overflow_y": null,
            "overflow_x": null,
            "grid_auto_flow": null,
            "grid_area": null,
            "grid_template_columns": null,
            "flex": null,
            "_model_name": "LayoutModel",
            "justify_items": null,
            "grid_row": null,
            "max_height": null,
            "align_content": null,
            "visibility": null,
            "align_self": null,
            "height": null,
            "min_height": null,
            "padding": null,
            "grid_auto_rows": null,
            "grid_gap": null,
            "max_width": null,
            "order": null,
            "_view_module_version": "1.2.0",
            "grid_template_areas": null,
            "object_position": null,
            "object_fit": null,
            "grid_auto_columns": null,
            "margin": null,
            "display": null,
            "left": null
          }
        }
      }
    }
  },
  "cells": [
    {
      "cell_type": "code",
      "execution_count": 1,
      "metadata": {
        "id": "q979WAzD-uYi"
      },
      "outputs": [],
      "source": [
        "import numpy as np\n",
        "import matplotlib.pyplot as plt\n",
        "from keras.layers import Dense, Dropout, BatchNormalization, Flatten, Input\n",
        "from keras.models import Model, Sequential\n",
        "from keras.datasets import mnist\n",
        "from keras.layers.advanced_activations import LeakyReLU\n",
        "from tensorflow.keras.optimizers import Adam\n",
        "from keras.regularizers import l2\n",
        "from tqdm import tqdm_notebook"
      ]
    },
    {
      "cell_type": "code",
      "source": [
        "#   Ignore warning\n",
        "import warnings\n",
        "warnings.filterwarnings(\"ignore\")"
      ],
      "metadata": {
        "id": "1utuh7GAk5cR"
      },
      "execution_count": null,
      "outputs": []
    },
    {
      "cell_type": "code",
      "source": [
        "(X_train, Y_train), (X_test, Y_test) = mnist.load_data()"
      ],
      "metadata": {
        "colab": {
          "base_uri": "https://localhost:8080/"
        },
        "id": "JpGsn4TW-8d3",
        "outputId": "e4de50a6-6602-4c10-e4ac-fb2ed55412f3"
      },
      "execution_count": 2,
      "outputs": [
        {
          "output_type": "stream",
          "name": "stdout",
          "text": [
            "Downloading data from https://storage.googleapis.com/tensorflow/tf-keras-datasets/mnist.npz\n",
            "11493376/11490434 [==============================] - 0s 0us/step\n",
            "11501568/11490434 [==============================] - 0s 0us/step\n"
          ]
        }
      ]
    },
    {
      "cell_type": "code",
      "source": [
        "#   Preprocessing data\n",
        "X_train = X_train.reshape(-1, 784)\n",
        "X_test = X_test.reshape(-1, 784)\n",
        "#   Normalize (0 : 1)\n",
        "X_train = X_train.astype('float32')/255.0\n",
        "X_test = X_test.astype('float32')/255.0"
      ],
      "metadata": {
        "id": "WqORTj3V_IvN"
      },
      "execution_count": 3,
      "outputs": []
    },
    {
      "cell_type": "code",
      "source": [
        "#   Define dimension of noise input from Generator\n",
        "z_dim = 100\n",
        "\n",
        "#   Define optimizer\n",
        "opt = Adam(learning_rate = 0.001)"
      ],
      "metadata": {
        "id": "iMch8bsQ_7xx"
      },
      "execution_count": 4,
      "outputs": []
    },
    {
      "cell_type": "code",
      "source": [
        "G = Sequential()\n",
        "G.add(Dense(256, input_shape = (z_dim, ), activation = LeakyReLU(), kernel_regularizer = l2(0.0001)))\n",
        "G.add(BatchNormalization())\n",
        "G.add(Dense(512, activation = LeakyReLU(), kernel_regularizer = l2(0.0001)))\n",
        "G.add(BatchNormalization())\n",
        "G.add(Dense(1024, activation = LeakyReLU(), kernel_regularizer = l2(0.0001)))\n",
        "G.add(BatchNormalization())\n",
        "G.add(Dense(784, activation = 'sigmoid'))\n",
        "G.compile(optimizer = opt, loss = 'binary_crossentropy', metrics = ['accuracy'])\n",
        "\n",
        "D = Sequential()\n",
        "D.add(Dense(1024, input_shape = (784, ), activation = LeakyReLU(), kernel_regularizer = l2(0.0001)))\n",
        "D.add(BatchNormalization())\n",
        "D.add(Dense(512, activation = LeakyReLU(), kernel_regularizer = l2(0.0001)))\n",
        "D.add(BatchNormalization())\n",
        "D.add(Dense(256, activation = LeakyReLU(), kernel_regularizer = l2(0.0001)))\n",
        "D.add(BatchNormalization())\n",
        "D.add(Dense(1, activation = 'sigmoid'))\n",
        "D.compile(optimizer = opt, loss = 'binary_crossentropy', metrics = ['accuracy'])"
      ],
      "metadata": {
        "id": "DVOrzmPzANKx"
      },
      "execution_count": 5,
      "outputs": []
    },
    {
      "cell_type": "code",
      "source": [
        "input = Input(shape = (z_dim,))\n",
        "gen = G(input)\n",
        "dis = D(gen)\n",
        "gan = Model(inputs = input, outputs = dis)\n",
        "gan.compile(optimizer = opt, loss = 'binary_crossentropy', metrics = ['accuracy'])\n",
        "gan.summary()"
      ],
      "metadata": {
        "colab": {
          "base_uri": "https://localhost:8080/"
        },
        "id": "NnyH29ZGDuy2",
        "outputId": "6dcba233-0e22-42d8-d87c-cdccc42dbe23"
      },
      "execution_count": 6,
      "outputs": [
        {
          "output_type": "stream",
          "name": "stdout",
          "text": [
            "Model: \"model\"\n",
            "_________________________________________________________________\n",
            " Layer (type)                Output Shape              Param #   \n",
            "=================================================================\n",
            " input_1 (InputLayer)        [(None, 100)]             0         \n",
            "                                                                 \n",
            " sequential (Sequential)     (None, 784)               1493520   \n",
            "                                                                 \n",
            " sequential_1 (Sequential)   (None, 1)                 1467393   \n",
            "                                                                 \n",
            "=================================================================\n",
            "Total params: 2,960,913\n",
            "Trainable params: 2,953,745\n",
            "Non-trainable params: 7,168\n",
            "_________________________________________________________________\n"
          ]
        }
      ]
    },
    {
      "cell_type": "code",
      "source": [
        "def plot_generator(ex_dim, z_dim):\n",
        "    z_noise = np.random.randn(ex_dim, z_dim)  \n",
        "    generated_imgs = G.predict(z_noise)\n",
        "    # generated_imgs = generated_imgs.reshape(ex_dim, 28, 28)\n",
        "    # fig = plt.figure(figsize = (12, 2))\n",
        "    # for index, image in enumerate(generated_imgs):\n",
        "    #     ax = fig.add_subplot(10, 1, index+1)\n",
        "    #     ax.imshow(generated_imgs)\n",
        "    #     ax.axis('off')\n",
        "    # plt.show()\n",
        "    print(generated_imgs.shape)"
      ],
      "metadata": {
        "id": "IUTEZEtyhP-U"
      },
      "execution_count": 15,
      "outputs": []
    },
    {
      "cell_type": "code",
      "source": [
        "#   Save loss and accuracy of Generator & Discriminator while training\n",
        "loss = {'G': [], 'D': []}\n",
        "def train(epochs, batch_size, plot_freq, z_dim):\n",
        "    iters = X_train.shape[0] // batch_size\n",
        "    for epoch in tqdm_notebook(range(1, epochs + 1)):\n",
        "        if epoch == 1 or epoch % plot_freq == 0:\n",
        "            print('-'*25, f'Epoch {epoch}', '-'*25)\n",
        "        for _ in range(iters):\n",
        "            #   Random z_noise from any random distributions (Standard Normal Distribution for this scenario)\n",
        "            z_noise = np.random.randn(batch_size, z_dim)  \n",
        "            #   Take random batch_size image from mnist dataset\n",
        "            mnist_imgs = X_train[np.random.choice(X_train.shape[0], batch_size), :]\n",
        "\n",
        "            #   Use Generator to generate new image from noise\n",
        "            generated_imgs = G.predict(z_noise)\n",
        "            X_discr = np.concatenate((mnist_imgs, generated_imgs))\n",
        "            #   Create labels\n",
        "            Y_discr = np.zeros((2*batch_size, 1))    #   Label 0 for generated images\n",
        "            Y_discr[:batch_size] = 1\n",
        "\n",
        "            #   Train Discriminator\n",
        "            D.trainable = True\n",
        "            D_loss = D.train_on_batch(X_discr, Y_discr)\n",
        "\n",
        "            #   Train Generator\n",
        "            D.trainable = False\n",
        "            Y_gener = np.ones((batch_size))\n",
        "            G_loss = gan.train_on_batch(z_noise, Y_gener)\n",
        "\n",
        "            loss['D'].append(D_loss)\n",
        "            loss['G'].append(G_loss)\n",
        "        if epoch == 1 or epoch % plot_freq == 0:\n",
        "            plot_generator(10, z_dim)"
      ],
      "metadata": {
        "id": "eJ0ErMiiFq-W"
      },
      "execution_count": 11,
      "outputs": []
    },
    {
      "cell_type": "code",
      "source": [
        "train(epochs = 200, batch_size = 64, plot_freq = 20, z_dim = 100)"
      ],
      "metadata": {
        "colab": {
          "base_uri": "https://localhost:8080/",
          "height": 132,
          "referenced_widgets": [
            "010ef991916b48d39c609098038772e8",
            "39940858e2f44669abeba9fc0160ab19",
            "c5aa8a92277d4699bc814f4b9c6f2a3b",
            "548aa27ac33e4bfab0670934c0afe8c0",
            "9d6d59ba175546878eef6199968ee1d7",
            "264226519b7e42a0ab7e32cb6a3c3ab9",
            "41f9ab4e596e44ac8aa1db658dfb25a1",
            "802ece27b0e54888a89254ac314111d4",
            "7f116986a255452686e580755c52ed3b",
            "02bca21f7df847bca877ce6fda22ef70",
            "7698f1872c1c46b3a3a6c627a360a127"
          ]
        },
        "id": "MgTrKgfLd09x",
        "outputId": "6904c4ee-29af-451b-b9ac-6cad5c097494"
      },
      "execution_count": null,
      "outputs": [
        {
          "output_type": "stream",
          "name": "stderr",
          "text": [
            "/usr/local/lib/python3.7/dist-packages/ipykernel_launcher.py:5: TqdmDeprecationWarning: This function will be removed in tqdm==5.0.0\n",
            "Please use `tqdm.notebook.tqdm` instead of `tqdm.tqdm_notebook`\n",
            "  \"\"\"\n"
          ]
        },
        {
          "output_type": "display_data",
          "data": {
            "application/vnd.jupyter.widget-view+json": {
              "model_id": "010ef991916b48d39c609098038772e8",
              "version_minor": 0,
              "version_major": 2
            },
            "text/plain": [
              "  0%|          | 0/200 [00:00<?, ?it/s]"
            ]
          },
          "metadata": {}
        },
        {
          "output_type": "stream",
          "name": "stdout",
          "text": [
            "------------------------- Epoch 1 -------------------------\n",
            "(10, 784)\n"
          ]
        }
      ]
    }
  ]
}